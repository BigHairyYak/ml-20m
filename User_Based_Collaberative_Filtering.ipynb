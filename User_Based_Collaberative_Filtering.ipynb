{
 "cells": [
  {
   "cell_type": "code",
   "execution_count": 1,
   "metadata": {},
   "outputs": [],
   "source": [
    "# Import block\n",
    "import pandas as pd\n",
    "import numpy as np\n",
    "import sklearn    # Comes with kNN method, may be useful"
   ]
  },
  {
   "cell_type": "code",
   "execution_count": 8,
   "metadata": {},
   "outputs": [],
   "source": [
    "# Data loading block\n",
    "# The MovieLens-20M dataset is split over 6 .csv files\n",
    "# 1. genome-tags:    Associates each movie tag with a number\n",
    "# 2. tags:           Each user and what tags they have assigned to which movies, with timestamp\n",
    "# 3. genome-scores:  Each tag's relevance to every movie as a double 0-1\n",
    "# 4. ratings:        20M ratings users gave to movies they watched (0.5-5, steps of 0.5)\n",
    "# 5. movies:         Each movie's ID number and name, as well as genres \n",
    "# 6. links:          Each movie's entry numbers in IMDB and themovieDB (seemingly irrelevant?)\n",
    "\n",
    "# Step 1: Convert all tags in 'tags' to their respective number to save space in the long run\n",
    "genome_tags = pd.read_csv(\"genome-tags.csv\") # get tags\n",
    "user_tags = pd.read_csv(\"tags.csv\", usecols=[0, 1, 2]) # get user-given tags, but not timestamp\n",
    "genome_scores = pd.read_csv(\"genome-scores.csv\")\n",
    "ratings = pd.read_csv(\"ratings.csv\", usecols=[0, 1, 2]) # get user-provided ratings\n",
    "movies = pd.read_csv(\"movies.csv\")\n",
    "# links = pd.read_csv(\"links.csv\")"
   ]
  },
  {
   "cell_type": "code",
   "execution_count": 12,
   "metadata": {},
   "outputs": [
    {
     "name": "stdout",
     "output_type": "stream",
     "text": [
      "Items in genome-tags:\t\t1128\n",
      "Items in user-tags:\t\t465564\n",
      "Items in genome-scores:\t\t11709768\n",
      "Items in ratings:\t\t20000263\n",
      "Items in movies:\t\t27278\n"
     ]
    }
   ],
   "source": [
    "print(\"Items in genome-tags:\\t\\t\" + str(len(genome_tags.index)))\n",
    "print(\"Items in user-tags:\\t\\t\" + str(len(user_tags.index)))\n",
    "print(\"Items in genome-scores:\\t\\t\" + str(len(genome_scores.index)))\n",
    "print(\"Items in ratings:\\t\\t\" + str(len(ratings.index)))\n",
    "print(\"Items in movies:\\t\\t\" + str(len(movies.index)))"
   ]
  },
  {
   "cell_type": "code",
   "execution_count": 10,
   "metadata": {},
   "outputs": [
    {
     "data": {
      "text/plain": [
       "1128"
      ]
     },
     "metadata": {},
     "output_type": "display_data"
    },
    {
     "data": {
      "text/plain": [
       "465548"
      ]
     },
     "metadata": {},
     "output_type": "display_data"
    },
    {
     "data": {
      "text/plain": [
       "38643"
      ]
     },
     "metadata": {},
     "output_type": "display_data"
    }
   ],
   "source": [
    "# Create a user-movie matrix where rows=users and columns=movie ratings\n",
    "\n",
    "\n",
    "# Notes: user tags are almost useless - many include their own and stray from the genome tags\n",
    "\n",
    "# RATINGS appear important - other users' ratings on movies in the same GENRE would affect recs\n"
   ]
  },
  {
   "cell_type": "markdown",
   "metadata": {},
   "source": [
    "## \"12/11/2019\""
   ]
  }
 ],
 "metadata": {
  "kernelspec": {
   "display_name": "Python 3",
   "language": "python",
   "name": "python3"
  },
  "language_info": {
   "codemirror_mode": {
    "name": "ipython",
    "version": 3
   },
   "file_extension": ".py",
   "mimetype": "text/x-python",
   "name": "python",
   "nbconvert_exporter": "python",
   "pygments_lexer": "ipython3",
   "version": "3.7.5"
  }
 },
 "nbformat": 4,
 "nbformat_minor": 2
}
