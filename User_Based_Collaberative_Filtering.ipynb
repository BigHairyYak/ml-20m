{
 "cells": [
  {
   "cell_type": "code",
   "execution_count": 2,
   "metadata": {},
   "outputs": [],
   "source": [
    "# Import block\n",
    "import pandas as pd\n",
    "import numpy as np\n",
    "import sklearn    # Comes with kNN method, may be useful"
   ]
  },
  {
   "cell_type": "code",
   "execution_count": 41,
   "metadata": {},
   "outputs": [],
   "source": [
    "# Data loading block\n",
    "# The MovieLens-20M dataset is split over 6 .csv files\n",
    "# 1. genome-tags:    Associates each movie tag with a number\n",
    "# 2. tags:           Each user and what tags they have assigned to which movies, with timestamp\n",
    "# 3. genome-scores:  Each tag's relevance to every movie as a double 0-1\n",
    "# 4. ratings:        20M ratings users gave to movies they watched (0.5-5, steps of 0.5)\n",
    "# 5. movies:         Each movie's ID number and name, as well as genres \n",
    "# 6. links:          Each movie's entry numbers in IMDB and themovieDB (seemingly irrelevant?)\n",
    "\n",
    "genome_tags = pd.read_csv(\"genome-tags.csv\") # get tags\n",
    "user_tags = pd.read_csv(\"tags.csv\", usecols=[0, 1, 2]) # get user-given tags, but not timestamp\n",
    "genome_scores = pd.read_csv(\"genome-scores.csv\")\n",
    "ratings = pd.read_csv(\"ratings.csv\", usecols=[0, 1, 2]) # get user-provided ratings\n",
    "movies = pd.read_csv(\"movies.csv\")\n",
    "# links = pd.read_csv(\"links.csv\")\n",
    "\n",
    "############# DATA SAVING STEP ######################\n",
    "# Set movie IDs to int32 from int64\n",
    "movies[\"movieId\"] = movies[\"movieId\"].astype('int32')\n",
    "\n",
    "# Change ratings from floats (0.5 to 5 in 0.5 increments) to integers (1-10)\n",
    "# Change user ID and movie ID to int32 from int64\n",
    "ratings[\"userId\"] = ratings[\"userId\"].astype('int32')\n",
    "ratings[\"movieId\"] = ratings[\"movieId\"].astype('int32')\n",
    "ratings[\"rating\"] = (ratings[\"rating\"] * 2).astype('int8') # Keep this in mind (1-10)\n",
    "\n",
    "# Change movieId to int32 and tagId to int16\n",
    "# Change relevance from float64 to float32\n",
    "genome_scores[\"movieId\"] = genome_scores[\"movieId\"].astype('int32')\n",
    "genome_scores[\"tagId\"] = genome_scores[\"tagId\"].astype('int16')\n",
    "genome_scores[\"relevance\"] = genome_scores[\"relevance\"].astype('float32')\n",
    "                     \n",
    "# Change userId and movieId to int32\n",
    "user_tags[\"userId\"] = user_tags[\"userId\"].astype('int32')\n",
    "user_tags[\"movieId\"] = user_tags[\"movieId\"].astype('int32')\n",
    "                     \n",
    "# Change genome tag IDs to int16\n",
    "genome_tags[\"tagId\"] = genome_tags[\"tagId\"].astype('int16')"
   ]
  },
  {
   "cell_type": "code",
   "execution_count": 4,
   "metadata": {},
   "outputs": [
    {
     "name": "stdout",
     "output_type": "stream",
     "text": [
      "Items in genome-tags:\t\t1128\n",
      "Items in user-tags:\t\t465564\n",
      "Items in genome-scores:\t\t11709768\n",
      "Items in ratings:\t\t20000263\n",
      "Items in movies:\t\t27278\n"
     ]
    }
   ],
   "source": [
    "print(\"Items in genome-tags:\\t\\t\" + str(len(genome_tags.index)))\n",
    "print(\"Items in user-tags:\\t\\t\" + str(len(user_tags.index)))\n",
    "print(\"Items in genome-scores:\\t\\t\" + str(len(genome_scores.index)))\n",
    "print(\"Items in ratings:\\t\\t\" + str(len(ratings.index)))\n",
    "print(\"Items in movies:\\t\\t\" + str(len(movies.index)))"
   ]
  },
  {
   "cell_type": "code",
   "execution_count": 40,
   "metadata": {},
   "outputs": [
    {
     "data": {
      "text/plain": [
       "0           3.5\n",
       "1           3.5\n",
       "2           3.5\n",
       "3           3.5\n",
       "4           3.5\n",
       "5           3.5\n",
       "6           4.0\n",
       "7           4.0\n",
       "8           4.0\n",
       "9           4.0\n",
       "10          4.0\n",
       "11          4.0\n",
       "12          4.0\n",
       "13          3.5\n",
       "14          3.5\n",
       "15          4.0\n",
       "16          3.5\n",
       "17          3.5\n",
       "18          3.0\n",
       "19          3.5\n",
       "20          3.5\n",
       "21          3.5\n",
       "22          4.0\n",
       "23          4.0\n",
       "24          3.5\n",
       "25          3.5\n",
       "26          4.0\n",
       "27          4.0\n",
       "28          3.5\n",
       "29          3.5\n",
       "           ... \n",
       "20000233    3.5\n",
       "20000234    3.5\n",
       "20000235    4.5\n",
       "20000236    4.5\n",
       "20000237    4.0\n",
       "20000238    4.0\n",
       "20000239    4.0\n",
       "20000240    3.0\n",
       "20000241    4.0\n",
       "20000242    4.0\n",
       "20000243    4.5\n",
       "20000244    5.0\n",
       "20000245    5.0\n",
       "20000246    3.0\n",
       "20000247    3.0\n",
       "20000248    4.5\n",
       "20000249    4.0\n",
       "20000250    3.0\n",
       "20000251    5.0\n",
       "20000252    4.0\n",
       "20000253    4.5\n",
       "20000254    4.0\n",
       "20000255    4.5\n",
       "20000256    4.5\n",
       "20000257    4.5\n",
       "20000258    4.5\n",
       "20000259    4.5\n",
       "20000260    3.0\n",
       "20000261    5.0\n",
       "20000262    2.5\n",
       "Name: rating, Length: 20000263, dtype: float64"
      ]
     },
     "execution_count": 40,
     "metadata": {},
     "output_type": "execute_result"
    }
   ],
   "source": [
    "ratings[\"rating\"]"
   ]
  },
  {
   "cell_type": "code",
   "execution_count": 21,
   "metadata": {},
   "outputs": [],
   "source": [
    "num_users = ratings[\"userId\"].iloc[-1] # Get number of users (by looking at value of the final user)\n",
    "# Create a user-movie matrix where rows=users and columns=movie ratings\n",
    "#user_ratings_matrix = pd.DataFrame(index=range(0, num_users+1), columns=movies[\"movieId\"])\n",
    "\n",
    "#user_ratings_matrix.shape\n",
    "\n",
    "# Notes: user tags are almost useless - many include their own and stray from the genome tags\n",
    "\n",
    "# RATINGS appear important - other users' ratings on movies in the same GENRE would affect recs\n"
   ]
  },
  {
   "cell_type": "markdown",
   "metadata": {},
   "source": [
    "## \"12/11/2019\""
   ]
  }
 ],
 "metadata": {
  "kernelspec": {
   "display_name": "Python 3",
   "language": "python",
   "name": "python3"
  },
  "language_info": {
   "codemirror_mode": {
    "name": "ipython",
    "version": 3
   },
   "file_extension": ".py",
   "mimetype": "text/x-python",
   "name": "python",
   "nbconvert_exporter": "python",
   "pygments_lexer": "ipython3",
   "version": "3.7.3"
  }
 },
 "nbformat": 4,
 "nbformat_minor": 2
}
